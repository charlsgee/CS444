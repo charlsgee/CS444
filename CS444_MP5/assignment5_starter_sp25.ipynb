{
  "cells": [
    {
      "cell_type": "markdown",
      "metadata": {
        "id": "kR0SKBDbaOqR"
      },
      "source": [
        "# MP5: Training Your Diffusion Model!"
      ]
    },
    {
      "cell_type": "markdown",
      "metadata": {
        "id": "ryMrLOORbWLz"
      },
      "source": [
        "## Setup environment"
      ]
    },
    {
      "cell_type": "code",
      "execution_count": 1,
      "metadata": {
        "id": "VdFQ6c9-Pm4Y"
      },
      "outputs": [],
      "source": [
        "# Import essential modules. Feel free to add whatever you need.\n",
        "import matplotlib.pyplot as plt\n",
        "import torch # added\n",
        "from torch import optim # added\n",
        "from torch import nn\n",
        "import torch.nn.functional as F\n",
        "from torch.utils.data import DataLoader\n",
        "from torchvision.datasets import MNIST\n",
        "from torchvision.transforms import ToTensor\n",
        "from torchvision.transforms.v2 import GaussianNoise\n",
        "import torchvision.utils as vutils\n",
        "import numpy as np"
      ]
    },
    {
      "cell_type": "code",
      "execution_count": 2,
      "metadata": {
        "id": "9qCe1sbsTlSC"
      },
      "outputs": [],
      "source": [
        "def visualize_images_with_titles(images: torch.Tensor, column_names: list[str]):\n",
        "    \"\"\"\n",
        "    Visualize images as a grid and title the columns with the provided names.\n",
        "\n",
        "    Args:\n",
        "        images: (N, C, H, W) tensor of images, where N is (number of rows * number of columns)\n",
        "        column_names: List of column names for the titles.\n",
        "\n",
        "    Example usage:\n",
        "    visualize_images_with_titles(torch.randn(16, 1, 32, 32), ['1', '2', '3', '4'])\n",
        "    \"\"\"\n",
        "    numimgs, num_columns = images.shape[0], len(column_names)\n",
        "    assert numimgs % num_columns == 0, 'Number of images must be a multiple of the number of columns.'\n",
        "\n",
        "    num_rows = numimgs // num_columns\n",
        "    fig, axes = plt.subplots(num_rows, num_columns, figsize=(num_columns * 1, num_rows * 1))\n",
        "\n",
        "    for i, ax in enumerate(axes.flat):\n",
        "        img = images[i].permute(1, 2, 0).cpu().numpy()\n",
        "        ax.imshow(img, cmap='gray')\n",
        "        ax.axis('off')\n",
        "        if i < num_columns:\n",
        "            ax.set_title(column_names[i % num_columns])\n",
        "\n",
        "    plt.tight_layout()\n",
        "    plt.show()\n"
      ]
    },
    {
      "cell_type": "markdown",
      "metadata": {
        "id": "CZZZziMrxiIk"
      },
      "source": [
        "# Part 1: Training a Single-step Denoising UNet\n"
      ]
    },
    {
      "cell_type": "markdown",
      "metadata": {
        "id": "Dokvxybn_DwK"
      },
      "source": [
        "## Implementing Simple and Composed Ops"
      ]
    },
    {
      "cell_type": "code",
      "execution_count": 20,
      "metadata": {
        "id": "fhpEzgwCJqbW"
      },
      "outputs": [],
      "source": [
        "class Conv(nn.Module):\n",
        "    def __init__(self, in_channels: int, out_channels: int):\n",
        "        super().__init__()\n",
        "        #TODO: Add Num Features\n",
        "        self.conv = nn.Conv2d(in_channels, out_channels,kernel_size=3,stride=1,padding=1)\n",
        "        self.bnorm = nn.BatchNorm2d(out_channels)\n",
        "        self.gelu = nn.GELU()\n",
        "    def forward(self, x: torch.Tensor) -> torch.Tensor:\n",
        "        # raise NotImplementedError()\n",
        "        xb = self.conv(x)\n",
        "        y = self.bnorm(xb)\n",
        "        convout = self.gelu(y)\n",
        "        return convout\n",
        "\n",
        "\n",
        "class DownConv(nn.Module):\n",
        "    def __init__(self, in_channels: int, out_channels: int):\n",
        "        super().__init__()\n",
        "        #TODO: Add Num Features\n",
        "        self.conv = nn.Conv2d(in_channels, out_channels,kernel_size=3,stride=2,padding=1)\n",
        "        self.bnorm = nn.BatchNorm2d(out_channels)\n",
        "        self.gelu = nn.GELU()\n",
        "    def forward(self, x: torch.Tensor) -> torch.Tensor:\n",
        "        xb = self.conv(x)\n",
        "        y = self.bnorm(xb)\n",
        "        convout = self.gelu(y)\n",
        "        return convout\n",
        "\n",
        "\n",
        "class UpConv(nn.Module):\n",
        "    def __init__(self, in_channels: int, out_channels: int):\n",
        "        super().__init__()\n",
        "        #TODO: Add Num Features\n",
        "        self.conv = nn.ConvTranspose2d(in_channels, out_channels,kernel_size=4,stride=2,padding=1)\n",
        "        self.bnorm = nn.BatchNorm2d(out_channels)\n",
        "        self.gelu = nn.GELU()\n",
        "    def forward(self, x: torch.Tensor) -> torch.Tensor:\n",
        "        xb = self.conv(x)\n",
        "        y = self.bnorm(xb)\n",
        "        convout = self.gelu(y)\n",
        "        return convout\n",
        "\n",
        "\n",
        "class Flatten(nn.Module):\n",
        "    def __init__(self):\n",
        "        super().__init__()\n",
        "        self.pool = nn.AvgPool2d(7)\n",
        "        self.gelu = nn.GELU()\n",
        "    def forward(self, x: torch.Tensor) -> torch.Tensor:\n",
        "        # raise NotImplementedError()\n",
        "        x = self.pool(x)\n",
        "        flatout = self.gelu(x)\n",
        "        return flatout\n",
        "\n",
        "class Unflatten(nn.Module):\n",
        "    def __init__(self, in_channels: int):\n",
        "        super().__init__()\n",
        "        self.conv = nn.ConvTranspose2d(in_channels, in_channels,kernel_size=7,stride=7,padding=0)\n",
        "        self.bnorm = nn.BatchNorm2d(in_channels)\n",
        "        self.gelu = nn.GELU()\n",
        "    def forward(self, x: torch.Tensor) -> torch.Tensor:\n",
        "        # raise NotImplementedError()\n",
        "        xb = self.conv(x)\n",
        "        y = self.bnorm(xb)\n",
        "        convout = self.gelu(y)\n",
        "        return convout\n",
        "\n",
        "\n",
        "class ConvBlock(nn.Module):\n",
        "    def __init__(self, in_channels: int, out_channels: int):\n",
        "        super().__init__()\n",
        "        self.conv1 = Conv(in_channels,out_channels)\n",
        "        self.conv2 = Conv(out_channels,out_channels)\n",
        "    def forward(self, x: torch.Tensor) -> torch.Tensor:\n",
        "        # raise NotImplementedError()\n",
        "        print(x.shape)\n",
        "        out1 = self.conv1(x)\n",
        "        out2 = self.conv2(out1)\n",
        "        return out2\n",
        "\n",
        "class DownBlock(nn.Module):\n",
        "    def __init__(self, in_channels: int, out_channels: int):\n",
        "        super().__init__()\n",
        "        self.conv1 = DownConv(in_channels,out_channels)\n",
        "        self.conv2 = ConvBlock(out_channels,out_channels)\n",
        "    def forward(self, x: torch.Tensor) -> torch.Tensor:\n",
        "        out1 = self.conv1(x)\n",
        "        out2 = self.conv2(out1)\n",
        "        return out2\n",
        "\n",
        "\n",
        "class UpBlock(nn.Module):\n",
        "    def __init__(self, in_channels: int, out_channels: int):\n",
        "        super().__init__()\n",
        "        self.conv1 = UpConv(in_channels,out_channels)\n",
        "        self.conv2 = ConvBlock(out_channels,out_channels)\n",
        "    def forward(self, x: torch.Tensor) -> torch.Tensor:\n",
        "        out1 = self.conv1(x)\n",
        "        out2 = self.conv2(out1)\n",
        "        return out2"
      ]
    },
    {
      "cell_type": "markdown",
      "metadata": {
        "id": "tsntLNl8PkdG"
      },
      "source": [
        "## Implementing Unconditional UNet"
      ]
    },
    {
      "cell_type": "code",
      "execution_count": 21,
      "metadata": {
        "id": "94h1Q3BxN0ha"
      },
      "outputs": [],
      "source": [
        "class UnconditionalUNet(nn.Module):\n",
        "    def __init__(\n",
        "        self,\n",
        "        in_channels: int,\n",
        "        num_hiddens: int,\n",
        "    ):\n",
        "        super().__init__()\n",
        "        self.convb1 = ConvBlock(in_channels,num_hiddens)\n",
        "        self.downb1 = DownBlock(num_hiddens,num_hiddens)\n",
        "        self.downb2 = DownBlock(num_hiddens,num_hiddens*2)\n",
        "        self.flat1 = Flatten()\n",
        "        self.unflat1 = Unflatten(num_hiddens*2)\n",
        "        #Concat w/ downb2\n",
        "        self.upb1 = UpBlock(num_hiddens*4,num_hiddens)\n",
        "        #Concat w/ downb1\n",
        "        self.upb2 = UpBlock(num_hiddens*2,num_hiddens)\n",
        "        #Concat w/ convb1\n",
        "        self.convb2 = ConvBlock(num_hiddens*2,num_hiddens)\n",
        "        self.convf = Conv(num_hiddens,in_channels)\n",
        "    def forward(self, x: torch.Tensor) -> torch.Tensor:\n",
        "        assert x.shape[-2:] == (28, 28), \"Expect input shape to be (28, 28).\"\n",
        "        # print(x.shape)\n",
        "        convb1   = self.convb1(x)\n",
        "        downb1   = self.downb1(convb1)\n",
        "        downb2   = self.downb2(downb1)\n",
        "        flat1    = self.flat1(downb2)\n",
        "        unflat1  = self.unflat1(flat1)\n",
        "        concat1 = torch.cat((downb2,unflat1),dim=1)\n",
        "        upb1 = self.upb1(concat1)\n",
        "        concat2 = torch.cat((downb1,upb1),dim=1)\n",
        "        upb2 = self.upb2(concat2)\n",
        "        concat3 = torch.cat((convb1,upb2),dim=1)\n",
        "        convb2 = self.convb2(concat3)\n",
        "        convf = self.convf(convb2)\n",
        "        return convf"
      ]
    },
    {
      "cell_type": "markdown",
      "metadata": {
        "id": "itmHM7udTlSD"
      },
      "source": [
        "## Visualizing the noising process"
      ]
    },
    {
      "cell_type": "code",
      "execution_count": 22,
      "metadata": {
        "colab": {
          "base_uri": "https://localhost:8080/",
          "height": 576
        },
        "id": "WFhyA6joTlSD",
        "outputId": "9ba8b0ac-fd7c-413f-e4d3-8a9ad2bf029a"
      },
      "outputs": [
        {
          "data": {
            "image/png": "[encoded data removed]",
            "text/plain": [
              "<Figure size 2200x1000 with 55 Axes>"
            ]
          },
          "metadata": {},
          "output_type": "display_data"
        }
      ],
      "source": [
        "# import os\n",
        "# os.environ[\"KMP_DUPLICATE_LIB_OK\"]=\"TRUE\"\n",
        "\n",
        "dataset = MNIST(root=\"data\", download=True, transform=ToTensor(), train=True)\n",
        "sigma = np.arange(0,11)/10\n",
        "# img, _ = dataset[0]  # img shape: [1, 28, 28]\n",
        "\n",
        "# Define noise levels\n",
        "sigma_values = np.arange(0, 11) / 10 \n",
        "numimgs = 5\n",
        "images = torch.stack([dataset[i][0] for i in range(numimgs)])  # shape: [N, 1, 28, 28]\n",
        "fig, axs = plt.subplots(numimgs, 11, figsize=(11 * 2, numimgs * 2))\n",
        "for col, sigma in enumerate(sigma_values):\n",
        "    noise_transform = GaussianNoise(sigma=sigma)\n",
        "    noisy_images = torch.stack([noise_transform(img) for img in images])\n",
        "\n",
        "    for row in range(numimgs):\n",
        "        axs[row, col].imshow(noisy_images[row].squeeze(0), cmap='gray')\n",
        "        axs[row, col].axis('off')\n",
        "        if row == 0:\n",
        "            axs[row, col].set_title(f\"σ={sigma:.1f}\", fontsize=30)\n",
        "\n",
        "plt.tight_layout()\n",
        "plt.show()\n",
        "# TODO"
      ]
    },
    {
      "cell_type": "markdown",
      "metadata": {
        "id": "q4mNfCUETlSE"
      },
      "source": [
        "## Training a Single-Step Unconditional UNet\n",
        "\n",
        "- Plot the loss curve\n",
        "- Sample results on the test set"
      ]
    },
    {
      "cell_type": "code",
      "execution_count": 23,
      "metadata": {},
      "outputs": [],
      "source": [
        "# traindata = MNIST(root=\"data\", download=True, transform=ToTensor(), train=True)\n"
      ]
    },
    {
      "cell_type": "code",
      "execution_count": null,
      "metadata": {
        "colab": {
          "base_uri": "https://localhost:8080/",
          "height": 710
        },
        "id": "CFnYvvmWTlSE",
        "outputId": "b3267805-6f30-4873-b25b-d7e0118e2b13"
      },
      "outputs": [
        {
          "name": "stderr",
          "output_type": "stream",
          "text": [
            "  0%|          | 0/235 [00:00<?, ?it/s]"
          ]
        },
        {
          "name": "stdout",
          "output_type": "stream",
          "text": [
            "torch.Size([256, 1, 28, 28])\n",
            "torch.Size([256, 128, 14, 14])\n",
            "torch.Size([256, 256, 7, 7])\n",
            "torch.Size([256, 128, 14, 14])\n",
            "torch.Size([256, 128, 28, 28])\n",
            "torch.Size([256, 256, 28, 28])\n"
          ]
        },
        {
          "name": "stderr",
          "output_type": "stream",
          "text": [
            "  0%|          | 1/235 [00:25<1:38:44, 25.32s/it]"
          ]
        },
        {
          "name": "stdout",
          "output_type": "stream",
          "text": [
            "Epoch 1 Loss: 0.0019\n",
            "torch.Size([256, 1, 28, 28])\n",
            "torch.Size([256, 128, 14, 14])\n",
            "torch.Size([256, 256, 7, 7])\n",
            "torch.Size([256, 128, 14, 14])\n",
            "torch.Size([256, 128, 28, 28])\n",
            "torch.Size([256, 256, 28, 28])\n"
          ]
        },
        {
          "name": "stderr",
          "output_type": "stream",
          "text": [
            "  1%|          | 2/235 [00:34<1:02:21, 16.06s/it]"
          ]
        },
        {
          "name": "stdout",
          "output_type": "stream",
          "text": [
            "Epoch 1 Loss: 0.0032\n",
            "torch.Size([256, 1, 28, 28])\n",
            "torch.Size([256, 128, 14, 14])\n",
            "torch.Size([256, 256, 7, 7])\n",
            "torch.Size([256, 128, 14, 14])\n",
            "torch.Size([256, 128, 28, 28])\n",
            "torch.Size([256, 256, 28, 28])\n"
          ]
        },
        {
          "name": "stderr",
          "output_type": "stream",
          "text": [
            "  1%|▏         | 3/235 [00:44<50:02, 12.94s/it]  "
          ]
        },
        {
          "name": "stdout",
          "output_type": "stream",
          "text": [
            "Epoch 1 Loss: 0.0041\n",
            "torch.Size([256, 1, 28, 28])\n",
            "torch.Size([256, 128, 14, 14])\n",
            "torch.Size([256, 256, 7, 7])\n",
            "torch.Size([256, 128, 14, 14])\n",
            "torch.Size([256, 128, 28, 28])\n",
            "torch.Size([256, 256, 28, 28])\n"
          ]
        },
        {
          "name": "stderr",
          "output_type": "stream",
          "text": [
            "  2%|▏         | 4/235 [00:52<43:35, 11.32s/it]"
          ]
        },
        {
          "name": "stdout",
          "output_type": "stream",
          "text": [
            "Epoch 1 Loss: 0.0047\n",
            "torch.Size([256, 1, 28, 28])\n",
            "torch.Size([256, 128, 14, 14])\n",
            "torch.Size([256, 256, 7, 7])\n",
            "torch.Size([256, 128, 14, 14])\n",
            "torch.Size([256, 128, 28, 28])\n",
            "torch.Size([256, 256, 28, 28])\n"
          ]
        },
        {
          "name": "stderr",
          "output_type": "stream",
          "text": [
            "  2%|▏         | 5/235 [01:01<39:36, 10.33s/it]"
          ]
        },
        {
          "name": "stdout",
          "output_type": "stream",
          "text": [
            "Epoch 1 Loss: 0.0051\n",
            "torch.Size([256, 1, 28, 28])\n",
            "torch.Size([256, 128, 14, 14])\n",
            "torch.Size([256, 256, 7, 7])\n",
            "torch.Size([256, 128, 14, 14])\n",
            "torch.Size([256, 128, 28, 28])\n",
            "torch.Size([256, 256, 28, 28])\n"
          ]
        },
        {
          "name": "stderr",
          "output_type": "stream",
          "text": [
            "  3%|▎         | 6/235 [01:10<37:58,  9.95s/it]"
          ]
        },
        {
          "name": "stdout",
          "output_type": "stream",
          "text": [
            "Epoch 1 Loss: 0.0054\n",
            "torch.Size([256, 1, 28, 28])\n",
            "torch.Size([256, 128, 14, 14])\n",
            "torch.Size([256, 256, 7, 7])\n",
            "torch.Size([256, 128, 14, 14])\n",
            "torch.Size([256, 128, 28, 28])\n",
            "torch.Size([256, 256, 28, 28])\n"
          ]
        },
        {
          "name": "stderr",
          "output_type": "stream",
          "text": [
            "  3%|▎         | 7/235 [01:19<36:26,  9.59s/it]"
          ]
        },
        {
          "name": "stdout",
          "output_type": "stream",
          "text": [
            "Epoch 1 Loss: 0.0056\n",
            "torch.Size([256, 1, 28, 28])\n",
            "torch.Size([256, 128, 14, 14])\n",
            "torch.Size([256, 256, 7, 7])\n",
            "torch.Size([256, 128, 14, 14])\n",
            "torch.Size([256, 128, 28, 28])\n",
            "torch.Size([256, 256, 28, 28])\n"
          ]
        },
        {
          "name": "stderr",
          "output_type": "stream",
          "text": [
            "  3%|▎         | 8/235 [01:28<35:15,  9.32s/it]"
          ]
        },
        {
          "name": "stdout",
          "output_type": "stream",
          "text": [
            "Epoch 1 Loss: 0.0059\n",
            "torch.Size([256, 1, 28, 28])\n",
            "torch.Size([256, 128, 14, 14])\n",
            "torch.Size([256, 256, 7, 7])\n",
            "torch.Size([256, 128, 14, 14])\n",
            "torch.Size([256, 128, 28, 28])\n",
            "torch.Size([256, 256, 28, 28])\n"
          ]
        },
        {
          "name": "stderr",
          "output_type": "stream",
          "text": [
            "  4%|▍         | 9/235 [01:36<33:59,  9.02s/it]"
          ]
        },
        {
          "name": "stdout",
          "output_type": "stream",
          "text": [
            "Epoch 1 Loss: 0.0061\n",
            "torch.Size([256, 1, 28, 28])\n",
            "torch.Size([256, 128, 14, 14])\n",
            "torch.Size([256, 256, 7, 7])\n",
            "torch.Size([256, 128, 14, 14])\n",
            "torch.Size([256, 128, 28, 28])\n",
            "torch.Size([256, 256, 28, 28])\n"
          ]
        },
        {
          "name": "stderr",
          "output_type": "stream",
          "text": [
            "  4%|▍         | 10/235 [01:46<34:17,  9.15s/it]"
          ]
        },
        {
          "name": "stdout",
          "output_type": "stream",
          "text": [
            "Epoch 1 Loss: 0.0063\n",
            "torch.Size([256, 1, 28, 28])\n",
            "torch.Size([256, 128, 14, 14])\n",
            "torch.Size([256, 256, 7, 7])\n",
            "torch.Size([256, 128, 14, 14])\n",
            "torch.Size([256, 128, 28, 28])\n",
            "torch.Size([256, 256, 28, 28])\n"
          ]
        },
        {
          "name": "stderr",
          "output_type": "stream",
          "text": [
            "  5%|▍         | 11/235 [01:57<36:28,  9.77s/it]"
          ]
        },
        {
          "name": "stdout",
          "output_type": "stream",
          "text": [
            "Epoch 1 Loss: 0.0065\n",
            "torch.Size([256, 1, 28, 28])\n",
            "torch.Size([256, 128, 14, 14])\n",
            "torch.Size([256, 256, 7, 7])\n",
            "torch.Size([256, 128, 14, 14])\n",
            "torch.Size([256, 128, 28, 28])\n",
            "torch.Size([256, 256, 28, 28])\n"
          ]
        },
        {
          "name": "stderr",
          "output_type": "stream",
          "text": [
            "  5%|▌         | 12/235 [02:10<40:22, 10.86s/it]"
          ]
        },
        {
          "name": "stdout",
          "output_type": "stream",
          "text": [
            "Epoch 1 Loss: 0.0067\n",
            "torch.Size([256, 1, 28, 28])\n",
            "torch.Size([256, 128, 14, 14])\n",
            "torch.Size([256, 256, 7, 7])\n",
            "torch.Size([256, 128, 14, 14])\n",
            "torch.Size([256, 128, 28, 28])\n",
            "torch.Size([256, 256, 28, 28])\n"
          ]
        },
        {
          "name": "stderr",
          "output_type": "stream",
          "text": [
            "  6%|▌         | 13/235 [02:24<42:57, 11.61s/it]"
          ]
        },
        {
          "name": "stdout",
          "output_type": "stream",
          "text": [
            "Epoch 1 Loss: 0.0068\n",
            "torch.Size([256, 1, 28, 28])\n",
            "torch.Size([256, 128, 14, 14])\n",
            "torch.Size([256, 256, 7, 7])\n",
            "torch.Size([256, 128, 14, 14])\n",
            "torch.Size([256, 128, 28, 28])\n",
            "torch.Size([256, 256, 28, 28])\n"
          ]
        },
        {
          "name": "stderr",
          "output_type": "stream",
          "text": [
            "  6%|▌         | 14/235 [02:39<47:16, 12.84s/it]"
          ]
        },
        {
          "name": "stdout",
          "output_type": "stream",
          "text": [
            "Epoch 1 Loss: 0.0070\n",
            "torch.Size([256, 1, 28, 28])\n",
            "torch.Size([256, 128, 14, 14])\n",
            "torch.Size([256, 256, 7, 7])\n",
            "torch.Size([256, 128, 14, 14])\n",
            "torch.Size([256, 128, 28, 28])\n",
            "torch.Size([256, 256, 28, 28])\n"
          ]
        },
        {
          "name": "stderr",
          "output_type": "stream",
          "text": [
            "  6%|▋         | 15/235 [02:58<53:53, 14.70s/it]"
          ]
        },
        {
          "name": "stdout",
          "output_type": "stream",
          "text": [
            "Epoch 1 Loss: 0.0071\n",
            "torch.Size([256, 1, 28, 28])\n",
            "torch.Size([256, 128, 14, 14])\n",
            "torch.Size([256, 256, 7, 7])\n",
            "torch.Size([256, 128, 14, 14])\n",
            "torch.Size([256, 128, 28, 28])\n",
            "torch.Size([256, 256, 28, 28])\n"
          ]
        },
        {
          "name": "stderr",
          "output_type": "stream",
          "text": [
            "  7%|▋         | 16/235 [03:16<57:03, 15.63s/it]"
          ]
        },
        {
          "name": "stdout",
          "output_type": "stream",
          "text": [
            "Epoch 1 Loss: 0.0073\n",
            "torch.Size([256, 1, 28, 28])\n",
            "torch.Size([256, 128, 14, 14])\n",
            "torch.Size([256, 256, 7, 7])\n",
            "torch.Size([256, 128, 14, 14])\n",
            "torch.Size([256, 128, 28, 28])\n",
            "torch.Size([256, 256, 28, 28])\n"
          ]
        },
        {
          "name": "stderr",
          "output_type": "stream",
          "text": [
            "  7%|▋         | 17/235 [03:39<1:04:57, 17.88s/it]"
          ]
        },
        {
          "name": "stdout",
          "output_type": "stream",
          "text": [
            "Epoch 1 Loss: 0.0074\n",
            "torch.Size([256, 1, 28, 28])\n",
            "torch.Size([256, 128, 14, 14])\n",
            "torch.Size([256, 256, 7, 7])\n",
            "torch.Size([256, 128, 14, 14])\n",
            "torch.Size([256, 128, 28, 28])\n",
            "torch.Size([256, 256, 28, 28])\n"
          ]
        },
        {
          "name": "stderr",
          "output_type": "stream",
          "text": [
            "  8%|▊         | 18/235 [03:59<1:06:26, 18.37s/it]"
          ]
        },
        {
          "name": "stdout",
          "output_type": "stream",
          "text": [
            "Epoch 1 Loss: 0.0076\n",
            "torch.Size([256, 1, 28, 28])\n",
            "torch.Size([256, 128, 14, 14])\n",
            "torch.Size([256, 256, 7, 7])\n",
            "torch.Size([256, 128, 14, 14])\n",
            "torch.Size([256, 128, 28, 28])\n",
            "torch.Size([256, 256, 28, 28])\n"
          ]
        },
        {
          "name": "stderr",
          "output_type": "stream",
          "text": [
            "  8%|▊         | 19/235 [04:19<1:07:59, 18.89s/it]"
          ]
        },
        {
          "name": "stdout",
          "output_type": "stream",
          "text": [
            "Epoch 1 Loss: 0.0077\n",
            "torch.Size([256, 1, 28, 28])\n",
            "torch.Size([256, 128, 14, 14])\n",
            "torch.Size([256, 256, 7, 7])\n",
            "torch.Size([256, 128, 14, 14])\n",
            "torch.Size([256, 128, 28, 28])\n",
            "torch.Size([256, 256, 28, 28])\n"
          ]
        },
        {
          "name": "stderr",
          "output_type": "stream",
          "text": [
            "  9%|▊         | 20/235 [04:38<1:08:38, 19.16s/it]"
          ]
        },
        {
          "name": "stdout",
          "output_type": "stream",
          "text": [
            "Epoch 1 Loss: 0.0078\n",
            "torch.Size([256, 1, 28, 28])\n",
            "torch.Size([256, 128, 14, 14])\n",
            "torch.Size([256, 256, 7, 7])\n",
            "torch.Size([256, 128, 14, 14])\n",
            "torch.Size([256, 128, 28, 28])\n",
            "torch.Size([256, 256, 28, 28])\n"
          ]
        },
        {
          "name": "stderr",
          "output_type": "stream",
          "text": [
            "  9%|▉         | 21/235 [04:58<1:08:52, 19.31s/it]"
          ]
        },
        {
          "name": "stdout",
          "output_type": "stream",
          "text": [
            "Epoch 1 Loss: 0.0080\n",
            "torch.Size([256, 1, 28, 28])\n",
            "torch.Size([256, 128, 14, 14])\n",
            "torch.Size([256, 256, 7, 7])\n",
            "torch.Size([256, 128, 14, 14])\n",
            "torch.Size([256, 128, 28, 28])\n",
            "torch.Size([256, 256, 28, 28])\n"
          ]
        },
        {
          "name": "stderr",
          "output_type": "stream",
          "text": [
            "  9%|▉         | 22/235 [05:19<1:10:24, 19.83s/it]"
          ]
        },
        {
          "name": "stdout",
          "output_type": "stream",
          "text": [
            "Epoch 1 Loss: 0.0081\n",
            "torch.Size([256, 1, 28, 28])\n",
            "torch.Size([256, 128, 14, 14])\n",
            "torch.Size([256, 256, 7, 7])\n",
            "torch.Size([256, 128, 14, 14])\n",
            "torch.Size([256, 128, 28, 28])\n",
            "torch.Size([256, 256, 28, 28])\n"
          ]
        },
        {
          "name": "stderr",
          "output_type": "stream",
          "text": [
            " 10%|▉         | 23/235 [05:39<1:09:34, 19.69s/it]"
          ]
        },
        {
          "name": "stdout",
          "output_type": "stream",
          "text": [
            "Epoch 1 Loss: 0.0082\n",
            "torch.Size([256, 1, 28, 28])\n",
            "torch.Size([256, 128, 14, 14])\n",
            "torch.Size([256, 256, 7, 7])\n",
            "torch.Size([256, 128, 14, 14])\n",
            "torch.Size([256, 128, 28, 28])\n",
            "torch.Size([256, 256, 28, 28])\n"
          ]
        },
        {
          "name": "stderr",
          "output_type": "stream",
          "text": [
            " 10%|█         | 24/235 [05:57<1:08:23, 19.45s/it]"
          ]
        },
        {
          "name": "stdout",
          "output_type": "stream",
          "text": [
            "Epoch 1 Loss: 0.0083\n",
            "torch.Size([256, 1, 28, 28])\n",
            "torch.Size([256, 128, 14, 14])\n",
            "torch.Size([256, 256, 7, 7])\n",
            "torch.Size([256, 128, 14, 14])\n",
            "torch.Size([256, 128, 28, 28])\n",
            "torch.Size([256, 256, 28, 28])\n"
          ]
        },
        {
          "name": "stderr",
          "output_type": "stream",
          "text": [
            " 11%|█         | 25/235 [06:18<1:09:09, 19.76s/it]"
          ]
        },
        {
          "name": "stdout",
          "output_type": "stream",
          "text": [
            "Epoch 1 Loss: 0.0084\n",
            "torch.Size([256, 1, 28, 28])\n",
            "torch.Size([256, 128, 14, 14])\n",
            "torch.Size([256, 256, 7, 7])\n",
            "torch.Size([256, 128, 14, 14])\n",
            "torch.Size([256, 128, 28, 28])\n",
            "torch.Size([256, 256, 28, 28])\n"
          ]
        },
        {
          "name": "stderr",
          "output_type": "stream",
          "text": [
            " 11%|█         | 26/235 [06:38<1:09:01, 19.82s/it]"
          ]
        },
        {
          "name": "stdout",
          "output_type": "stream",
          "text": [
            "Epoch 1 Loss: 0.0086\n",
            "torch.Size([256, 1, 28, 28])\n",
            "torch.Size([256, 128, 14, 14])\n",
            "torch.Size([256, 256, 7, 7])\n",
            "torch.Size([256, 128, 14, 14])\n",
            "torch.Size([256, 128, 28, 28])\n",
            "torch.Size([256, 256, 28, 28])\n"
          ]
        },
        {
          "name": "stderr",
          "output_type": "stream",
          "text": [
            " 11%|█▏        | 27/235 [06:53<1:04:00, 18.46s/it]"
          ]
        },
        {
          "name": "stdout",
          "output_type": "stream",
          "text": [
            "Epoch 1 Loss: 0.0087\n",
            "torch.Size([256, 1, 28, 28])\n",
            "torch.Size([256, 128, 14, 14])\n",
            "torch.Size([256, 256, 7, 7])\n",
            "torch.Size([256, 128, 14, 14])\n",
            "torch.Size([256, 128, 28, 28])\n",
            "torch.Size([256, 256, 28, 28])\n"
          ]
        },
        {
          "name": "stderr",
          "output_type": "stream",
          "text": [
            " 12%|█▏        | 28/235 [07:07<58:44, 17.02s/it]  "
          ]
        },
        {
          "name": "stdout",
          "output_type": "stream",
          "text": [
            "Epoch 1 Loss: 0.0088\n",
            "torch.Size([256, 1, 28, 28])\n",
            "torch.Size([256, 128, 14, 14])\n",
            "torch.Size([256, 256, 7, 7])\n",
            "torch.Size([256, 128, 14, 14])\n",
            "torch.Size([256, 128, 28, 28])\n",
            "torch.Size([256, 256, 28, 28])\n"
          ]
        },
        {
          "name": "stderr",
          "output_type": "stream",
          "text": [
            " 12%|█▏        | 29/235 [07:22<56:59, 16.60s/it]"
          ]
        },
        {
          "name": "stdout",
          "output_type": "stream",
          "text": [
            "Epoch 1 Loss: 0.0089\n",
            "torch.Size([256, 1, 28, 28])\n",
            "torch.Size([256, 128, 14, 14])\n",
            "torch.Size([256, 256, 7, 7])\n",
            "torch.Size([256, 128, 14, 14])\n",
            "torch.Size([256, 128, 28, 28])\n",
            "torch.Size([256, 256, 28, 28])\n"
          ]
        },
        {
          "name": "stderr",
          "output_type": "stream",
          "text": [
            " 13%|█▎        | 30/235 [07:41<58:50, 17.22s/it]"
          ]
        },
        {
          "name": "stdout",
          "output_type": "stream",
          "text": [
            "Epoch 1 Loss: 0.0090\n",
            "torch.Size([256, 1, 28, 28])\n",
            "torch.Size([256, 128, 14, 14])\n",
            "torch.Size([256, 256, 7, 7])\n",
            "torch.Size([256, 128, 14, 14])\n",
            "torch.Size([256, 128, 28, 28])\n",
            "torch.Size([256, 256, 28, 28])\n"
          ]
        },
        {
          "name": "stderr",
          "output_type": "stream",
          "text": [
            " 13%|█▎        | 31/235 [08:01<1:01:22, 18.05s/it]"
          ]
        },
        {
          "name": "stdout",
          "output_type": "stream",
          "text": [
            "Epoch 1 Loss: 0.0091\n",
            "torch.Size([256, 1, 28, 28])\n",
            "torch.Size([256, 128, 14, 14])\n",
            "torch.Size([256, 256, 7, 7])\n",
            "torch.Size([256, 128, 14, 14])\n",
            "torch.Size([256, 128, 28, 28])\n",
            "torch.Size([256, 256, 28, 28])\n"
          ]
        },
        {
          "name": "stderr",
          "output_type": "stream",
          "text": [
            " 14%|█▎        | 32/235 [08:21<1:02:50, 18.58s/it]"
          ]
        },
        {
          "name": "stdout",
          "output_type": "stream",
          "text": [
            "Epoch 1 Loss: 0.0092\n",
            "torch.Size([256, 1, 28, 28])\n",
            "torch.Size([256, 128, 14, 14])\n",
            "torch.Size([256, 256, 7, 7])\n",
            "torch.Size([256, 128, 14, 14])\n",
            "torch.Size([256, 128, 28, 28])\n",
            "torch.Size([256, 256, 28, 28])\n"
          ]
        },
        {
          "name": "stderr",
          "output_type": "stream",
          "text": [
            " 14%|█▍        | 33/235 [08:35<58:25, 17.35s/it]  "
          ]
        },
        {
          "name": "stdout",
          "output_type": "stream",
          "text": [
            "Epoch 1 Loss: 0.0094\n",
            "torch.Size([256, 1, 28, 28])\n",
            "torch.Size([256, 128, 14, 14])\n",
            "torch.Size([256, 256, 7, 7])\n",
            "torch.Size([256, 128, 14, 14])\n",
            "torch.Size([256, 128, 28, 28])\n",
            "torch.Size([256, 256, 28, 28])\n"
          ]
        },
        {
          "name": "stderr",
          "output_type": "stream",
          "text": [
            " 14%|█▍        | 34/235 [08:50<55:01, 16.43s/it]"
          ]
        },
        {
          "name": "stdout",
          "output_type": "stream",
          "text": [
            "Epoch 1 Loss: 0.0095\n",
            "torch.Size([256, 1, 28, 28])\n",
            "torch.Size([256, 128, 14, 14])\n",
            "torch.Size([256, 256, 7, 7])\n",
            "torch.Size([256, 128, 14, 14])\n",
            "torch.Size([256, 128, 28, 28])\n",
            "torch.Size([256, 256, 28, 28])\n"
          ]
        },
        {
          "name": "stderr",
          "output_type": "stream",
          "text": [
            " 15%|█▍        | 35/235 [09:04<52:17, 15.69s/it]"
          ]
        },
        {
          "name": "stdout",
          "output_type": "stream",
          "text": [
            "Epoch 1 Loss: 0.0096\n",
            "torch.Size([256, 1, 28, 28])\n",
            "torch.Size([256, 128, 14, 14])\n",
            "torch.Size([256, 256, 7, 7])\n",
            "torch.Size([256, 128, 14, 14])\n",
            "torch.Size([256, 128, 28, 28])\n",
            "torch.Size([256, 256, 28, 28])\n"
          ]
        },
        {
          "name": "stderr",
          "output_type": "stream",
          "text": [
            " 15%|█▌        | 36/235 [09:20<52:48, 15.92s/it]"
          ]
        },
        {
          "name": "stdout",
          "output_type": "stream",
          "text": [
            "Epoch 1 Loss: 0.0097\n",
            "torch.Size([256, 1, 28, 28])\n",
            "torch.Size([256, 128, 14, 14])\n",
            "torch.Size([256, 256, 7, 7])\n",
            "torch.Size([256, 128, 14, 14])\n",
            "torch.Size([256, 128, 28, 28])\n",
            "torch.Size([256, 256, 28, 28])\n"
          ]
        },
        {
          "name": "stderr",
          "output_type": "stream",
          "text": [
            " 16%|█▌        | 37/235 [09:39<55:52, 16.93s/it]"
          ]
        },
        {
          "name": "stdout",
          "output_type": "stream",
          "text": [
            "Epoch 1 Loss: 0.0098\n",
            "torch.Size([256, 1, 28, 28])\n",
            "torch.Size([256, 128, 14, 14])\n",
            "torch.Size([256, 256, 7, 7])\n",
            "torch.Size([256, 128, 14, 14])\n",
            "torch.Size([256, 128, 28, 28])\n",
            "torch.Size([256, 256, 28, 28])\n"
          ]
        },
        {
          "name": "stderr",
          "output_type": "stream",
          "text": [
            " 16%|█▌        | 38/235 [09:56<55:25, 16.88s/it]"
          ]
        },
        {
          "name": "stdout",
          "output_type": "stream",
          "text": [
            "Epoch 1 Loss: 0.0099\n",
            "torch.Size([256, 1, 28, 28])\n",
            "torch.Size([256, 128, 14, 14])\n",
            "torch.Size([256, 256, 7, 7])\n",
            "torch.Size([256, 128, 14, 14])\n",
            "torch.Size([256, 128, 28, 28])\n",
            "torch.Size([256, 256, 28, 28])\n"
          ]
        },
        {
          "name": "stderr",
          "output_type": "stream",
          "text": [
            " 17%|█▋        | 39/235 [10:10<51:59, 15.92s/it]"
          ]
        },
        {
          "name": "stdout",
          "output_type": "stream",
          "text": [
            "Epoch 1 Loss: 0.0100\n",
            "torch.Size([256, 1, 28, 28])\n",
            "torch.Size([256, 128, 14, 14])\n",
            "torch.Size([256, 256, 7, 7])\n",
            "torch.Size([256, 128, 14, 14])\n",
            "torch.Size([256, 128, 28, 28])\n",
            "torch.Size([256, 256, 28, 28])\n"
          ]
        },
        {
          "name": "stderr",
          "output_type": "stream",
          "text": [
            " 17%|█▋        | 40/235 [10:21<47:10, 14.51s/it]"
          ]
        },
        {
          "name": "stdout",
          "output_type": "stream",
          "text": [
            "Epoch 1 Loss: 0.0101\n",
            "torch.Size([256, 1, 28, 28])\n",
            "torch.Size([256, 128, 14, 14])\n",
            "torch.Size([256, 256, 7, 7])\n",
            "torch.Size([256, 128, 14, 14])\n",
            "torch.Size([256, 128, 28, 28])\n",
            "torch.Size([256, 256, 28, 28])\n"
          ]
        },
        {
          "name": "stderr",
          "output_type": "stream",
          "text": [
            " 17%|█▋        | 41/235 [10:33<44:04, 13.63s/it]"
          ]
        },
        {
          "name": "stdout",
          "output_type": "stream",
          "text": [
            "Epoch 1 Loss: 0.0102\n",
            "torch.Size([256, 1, 28, 28])\n",
            "torch.Size([256, 128, 14, 14])\n",
            "torch.Size([256, 256, 7, 7])\n",
            "torch.Size([256, 128, 14, 14])\n",
            "torch.Size([256, 128, 28, 28])\n",
            "torch.Size([256, 256, 28, 28])\n"
          ]
        },
        {
          "name": "stderr",
          "output_type": "stream",
          "text": [
            " 18%|█▊        | 42/235 [10:45<42:07, 13.10s/it]"
          ]
        },
        {
          "name": "stdout",
          "output_type": "stream",
          "text": [
            "Epoch 1 Loss: 0.0103\n",
            "torch.Size([256, 1, 28, 28])\n",
            "torch.Size([256, 128, 14, 14])\n",
            "torch.Size([256, 256, 7, 7])\n",
            "torch.Size([256, 128, 14, 14])\n",
            "torch.Size([256, 128, 28, 28])\n",
            "torch.Size([256, 256, 28, 28])\n"
          ]
        },
        {
          "name": "stderr",
          "output_type": "stream",
          "text": [
            " 18%|█▊        | 43/235 [10:58<42:15, 13.21s/it]"
          ]
        },
        {
          "name": "stdout",
          "output_type": "stream",
          "text": [
            "Epoch 1 Loss: 0.0104\n",
            "torch.Size([256, 1, 28, 28])\n",
            "torch.Size([256, 128, 14, 14])\n",
            "torch.Size([256, 256, 7, 7])\n",
            "torch.Size([256, 128, 14, 14])\n",
            "torch.Size([256, 128, 28, 28])\n",
            "torch.Size([256, 256, 28, 28])\n"
          ]
        },
        {
          "name": "stderr",
          "output_type": "stream",
          "text": [
            " 19%|█▊        | 44/235 [11:14<44:17, 13.91s/it]"
          ]
        },
        {
          "name": "stdout",
          "output_type": "stream",
          "text": [
            "Epoch 1 Loss: 0.0105\n",
            "torch.Size([256, 1, 28, 28])\n",
            "torch.Size([256, 128, 14, 14])\n",
            "torch.Size([256, 256, 7, 7])\n",
            "torch.Size([256, 128, 14, 14])\n",
            "torch.Size([256, 128, 28, 28])\n",
            "torch.Size([256, 256, 28, 28])\n"
          ]
        },
        {
          "name": "stderr",
          "output_type": "stream",
          "text": [
            " 19%|█▉        | 45/235 [11:32<48:31, 15.33s/it]"
          ]
        },
        {
          "name": "stdout",
          "output_type": "stream",
          "text": [
            "Epoch 1 Loss: 0.0106\n",
            "torch.Size([256, 1, 28, 28])\n",
            "torch.Size([256, 128, 14, 14])\n",
            "torch.Size([256, 256, 7, 7])\n",
            "torch.Size([256, 128, 14, 14])\n",
            "torch.Size([256, 128, 28, 28])\n",
            "torch.Size([256, 256, 28, 28])\n"
          ]
        },
        {
          "name": "stderr",
          "output_type": "stream",
          "text": [
            " 20%|█▉        | 46/235 [11:51<51:27, 16.34s/it]"
          ]
        },
        {
          "name": "stdout",
          "output_type": "stream",
          "text": [
            "Epoch 1 Loss: 0.0107\n",
            "torch.Size([256, 1, 28, 28])\n",
            "torch.Size([256, 128, 14, 14])\n",
            "torch.Size([256, 256, 7, 7])\n",
            "torch.Size([256, 128, 14, 14])\n",
            "torch.Size([256, 128, 28, 28])\n",
            "torch.Size([256, 256, 28, 28])\n"
          ]
        },
        {
          "name": "stderr",
          "output_type": "stream",
          "text": [
            " 20%|██        | 47/235 [12:08<51:49, 16.54s/it]"
          ]
        },
        {
          "name": "stdout",
          "output_type": "stream",
          "text": [
            "Epoch 1 Loss: 0.0108\n",
            "torch.Size([256, 1, 28, 28])\n",
            "torch.Size([256, 128, 14, 14])\n",
            "torch.Size([256, 256, 7, 7])\n",
            "torch.Size([256, 128, 14, 14])\n",
            "torch.Size([256, 128, 28, 28])\n",
            "torch.Size([256, 256, 28, 28])\n"
          ]
        },
        {
          "name": "stderr",
          "output_type": "stream",
          "text": [
            " 20%|██        | 48/235 [12:23<49:52, 16.00s/it]"
          ]
        },
        {
          "name": "stdout",
          "output_type": "stream",
          "text": [
            "Epoch 1 Loss: 0.0109\n",
            "torch.Size([256, 1, 28, 28])\n",
            "torch.Size([256, 128, 14, 14])\n",
            "torch.Size([256, 256, 7, 7])\n",
            "torch.Size([256, 128, 14, 14])\n",
            "torch.Size([256, 128, 28, 28])\n",
            "torch.Size([256, 256, 28, 28])\n"
          ]
        },
        {
          "name": "stderr",
          "output_type": "stream",
          "text": [
            " 21%|██        | 49/235 [12:35<45:51, 14.79s/it]"
          ]
        },
        {
          "name": "stdout",
          "output_type": "stream",
          "text": [
            "Epoch 1 Loss: 0.0110\n",
            "torch.Size([256, 1, 28, 28])\n",
            "torch.Size([256, 128, 14, 14])\n",
            "torch.Size([256, 256, 7, 7])\n",
            "torch.Size([256, 128, 14, 14])\n",
            "torch.Size([256, 128, 28, 28])\n",
            "torch.Size([256, 256, 28, 28])\n"
          ]
        },
        {
          "name": "stderr",
          "output_type": "stream",
          "text": [
            " 21%|██▏       | 50/235 [12:48<44:23, 14.39s/it]"
          ]
        },
        {
          "name": "stdout",
          "output_type": "stream",
          "text": [
            "Epoch 1 Loss: 0.0111\n",
            "torch.Size([256, 1, 28, 28])\n",
            "torch.Size([256, 128, 14, 14])\n",
            "torch.Size([256, 256, 7, 7])\n",
            "torch.Size([256, 128, 14, 14])\n",
            "torch.Size([256, 128, 28, 28])\n",
            "torch.Size([256, 256, 28, 28])\n"
          ]
        },
        {
          "name": "stderr",
          "output_type": "stream",
          "text": [
            " 22%|██▏       | 51/235 [13:04<45:21, 14.79s/it]"
          ]
        },
        {
          "name": "stdout",
          "output_type": "stream",
          "text": [
            "Epoch 1 Loss: 0.0112\n",
            "torch.Size([256, 1, 28, 28])\n",
            "torch.Size([256, 128, 14, 14])\n",
            "torch.Size([256, 256, 7, 7])\n",
            "torch.Size([256, 128, 14, 14])\n",
            "torch.Size([256, 128, 28, 28])\n",
            "torch.Size([256, 256, 28, 28])\n"
          ]
        },
        {
          "name": "stderr",
          "output_type": "stream",
          "text": [
            " 22%|██▏       | 52/235 [13:22<47:54, 15.71s/it]"
          ]
        },
        {
          "name": "stdout",
          "output_type": "stream",
          "text": [
            "Epoch 1 Loss: 0.0113\n",
            "torch.Size([256, 1, 28, 28])\n",
            "torch.Size([256, 128, 14, 14])\n",
            "torch.Size([256, 256, 7, 7])\n",
            "torch.Size([256, 128, 14, 14])\n",
            "torch.Size([256, 128, 28, 28])\n",
            "torch.Size([256, 256, 28, 28])\n"
          ]
        },
        {
          "name": "stderr",
          "output_type": "stream",
          "text": [
            " 23%|██▎       | 53/235 [13:40<50:32, 16.66s/it]"
          ]
        },
        {
          "name": "stdout",
          "output_type": "stream",
          "text": [
            "Epoch 1 Loss: 0.0113\n",
            "torch.Size([256, 1, 28, 28])\n",
            "torch.Size([256, 128, 14, 14])\n",
            "torch.Size([256, 256, 7, 7])\n",
            "torch.Size([256, 128, 14, 14])\n",
            "torch.Size([256, 128, 28, 28])\n",
            "torch.Size([256, 256, 28, 28])\n"
          ]
        },
        {
          "name": "stderr",
          "output_type": "stream",
          "text": [
            " 23%|██▎       | 54/235 [13:55<48:37, 16.12s/it]"
          ]
        },
        {
          "name": "stdout",
          "output_type": "stream",
          "text": [
            "Epoch 1 Loss: 0.0114\n",
            "torch.Size([256, 1, 28, 28])\n",
            "torch.Size([256, 128, 14, 14])\n",
            "torch.Size([256, 256, 7, 7])\n",
            "torch.Size([256, 128, 14, 14])\n",
            "torch.Size([256, 128, 28, 28])\n",
            "torch.Size([256, 256, 28, 28])\n"
          ]
        },
        {
          "name": "stderr",
          "output_type": "stream",
          "text": [
            " 23%|██▎       | 55/235 [14:07<44:22, 14.79s/it]"
          ]
        },
        {
          "name": "stdout",
          "output_type": "stream",
          "text": [
            "Epoch 1 Loss: 0.0115\n",
            "torch.Size([256, 1, 28, 28])\n",
            "torch.Size([256, 128, 14, 14])\n",
            "torch.Size([256, 256, 7, 7])\n",
            "torch.Size([256, 128, 14, 14])\n",
            "torch.Size([256, 128, 28, 28])\n",
            "torch.Size([256, 256, 28, 28])\n"
          ]
        },
        {
          "name": "stderr",
          "output_type": "stream",
          "text": [
            " 24%|██▍       | 56/235 [14:19<41:12, 13.81s/it]"
          ]
        },
        {
          "name": "stdout",
          "output_type": "stream",
          "text": [
            "Epoch 1 Loss: 0.0116\n",
            "torch.Size([256, 1, 28, 28])\n",
            "torch.Size([256, 128, 14, 14])\n",
            "torch.Size([256, 256, 7, 7])\n",
            "torch.Size([256, 128, 14, 14])\n",
            "torch.Size([256, 128, 28, 28])\n",
            "torch.Size([256, 256, 28, 28])\n"
          ]
        },
        {
          "name": "stderr",
          "output_type": "stream",
          "text": [
            " 24%|██▍       | 57/235 [14:31<40:02, 13.50s/it]"
          ]
        },
        {
          "name": "stdout",
          "output_type": "stream",
          "text": [
            "Epoch 1 Loss: 0.0117\n",
            "torch.Size([256, 1, 28, 28])\n",
            "torch.Size([256, 128, 14, 14])\n",
            "torch.Size([256, 256, 7, 7])\n",
            "torch.Size([256, 128, 14, 14])\n",
            "torch.Size([256, 128, 28, 28])\n",
            "torch.Size([256, 256, 28, 28])\n"
          ]
        },
        {
          "name": "stderr",
          "output_type": "stream",
          "text": [
            " 25%|██▍       | 58/235 [14:44<39:19, 13.33s/it]"
          ]
        },
        {
          "name": "stdout",
          "output_type": "stream",
          "text": [
            "Epoch 1 Loss: 0.0118\n",
            "torch.Size([256, 1, 28, 28])\n",
            "torch.Size([256, 128, 14, 14])\n",
            "torch.Size([256, 256, 7, 7])\n",
            "torch.Size([256, 128, 14, 14])\n",
            "torch.Size([256, 128, 28, 28])\n",
            "torch.Size([256, 256, 28, 28])\n"
          ]
        },
        {
          "name": "stderr",
          "output_type": "stream",
          "text": [
            " 25%|██▌       | 59/235 [15:01<41:49, 14.26s/it]"
          ]
        },
        {
          "name": "stdout",
          "output_type": "stream",
          "text": [
            "Epoch 1 Loss: 0.0119\n",
            "torch.Size([256, 1, 28, 28])\n",
            "torch.Size([256, 128, 14, 14])\n",
            "torch.Size([256, 256, 7, 7])\n",
            "torch.Size([256, 128, 14, 14])\n",
            "torch.Size([256, 128, 28, 28])\n",
            "torch.Size([256, 256, 28, 28])\n"
          ]
        },
        {
          "name": "stderr",
          "output_type": "stream",
          "text": [
            " 26%|██▌       | 60/235 [15:19<44:56, 15.41s/it]"
          ]
        },
        {
          "name": "stdout",
          "output_type": "stream",
          "text": [
            "Epoch 1 Loss: 0.0120\n",
            "torch.Size([256, 1, 28, 28])\n",
            "torch.Size([256, 128, 14, 14])\n",
            "torch.Size([256, 256, 7, 7])\n",
            "torch.Size([256, 128, 14, 14])\n",
            "torch.Size([256, 128, 28, 28])\n",
            "torch.Size([256, 256, 28, 28])\n"
          ]
        },
        {
          "name": "stderr",
          "output_type": "stream",
          "text": [
            " 26%|██▌       | 61/235 [15:38<47:42, 16.45s/it]"
          ]
        },
        {
          "name": "stdout",
          "output_type": "stream",
          "text": [
            "Epoch 1 Loss: 0.0121\n",
            "torch.Size([256, 1, 28, 28])\n",
            "torch.Size([256, 128, 14, 14])\n",
            "torch.Size([256, 256, 7, 7])\n",
            "torch.Size([256, 128, 14, 14])\n",
            "torch.Size([256, 128, 28, 28])\n",
            "torch.Size([256, 256, 28, 28])\n"
          ]
        },
        {
          "name": "stderr",
          "output_type": "stream",
          "text": [
            " 26%|██▋       | 62/235 [15:53<46:35, 16.16s/it]"
          ]
        },
        {
          "name": "stdout",
          "output_type": "stream",
          "text": [
            "Epoch 1 Loss: 0.0122\n",
            "torch.Size([256, 1, 28, 28])\n",
            "torch.Size([256, 128, 14, 14])\n",
            "torch.Size([256, 256, 7, 7])\n",
            "torch.Size([256, 128, 14, 14])\n",
            "torch.Size([256, 128, 28, 28])\n",
            "torch.Size([256, 256, 28, 28])\n"
          ]
        },
        {
          "name": "stderr",
          "output_type": "stream",
          "text": [
            " 27%|██▋       | 63/235 [16:06<43:14, 15.08s/it]"
          ]
        },
        {
          "name": "stdout",
          "output_type": "stream",
          "text": [
            "Epoch 1 Loss: 0.0122\n",
            "torch.Size([256, 1, 28, 28])\n",
            "torch.Size([256, 128, 14, 14])\n",
            "torch.Size([256, 256, 7, 7])\n",
            "torch.Size([256, 128, 14, 14])\n",
            "torch.Size([256, 128, 28, 28])\n",
            "torch.Size([256, 256, 28, 28])\n"
          ]
        },
        {
          "name": "stderr",
          "output_type": "stream",
          "text": [
            " 27%|██▋       | 64/235 [16:20<41:58, 14.73s/it]"
          ]
        },
        {
          "name": "stdout",
          "output_type": "stream",
          "text": [
            "Epoch 1 Loss: 0.0123\n",
            "torch.Size([256, 1, 28, 28])\n",
            "torch.Size([256, 128, 14, 14])\n",
            "torch.Size([256, 256, 7, 7])\n",
            "torch.Size([256, 128, 14, 14])\n",
            "torch.Size([256, 128, 28, 28])\n",
            "torch.Size([256, 256, 28, 28])\n"
          ]
        },
        {
          "name": "stderr",
          "output_type": "stream",
          "text": [
            " 28%|██▊       | 65/235 [16:35<42:30, 15.01s/it]"
          ]
        },
        {
          "name": "stdout",
          "output_type": "stream",
          "text": [
            "Epoch 1 Loss: 0.0124\n",
            "torch.Size([256, 1, 28, 28])\n",
            "torch.Size([256, 128, 14, 14])\n",
            "torch.Size([256, 256, 7, 7])\n",
            "torch.Size([256, 128, 14, 14])\n",
            "torch.Size([256, 128, 28, 28])\n",
            "torch.Size([256, 256, 28, 28])\n"
          ]
        },
        {
          "name": "stderr",
          "output_type": "stream",
          "text": [
            " 28%|██▊       | 66/235 [16:53<44:15, 15.71s/it]"
          ]
        },
        {
          "name": "stdout",
          "output_type": "stream",
          "text": [
            "Epoch 1 Loss: 0.0125\n",
            "torch.Size([256, 1, 28, 28])\n",
            "torch.Size([256, 128, 14, 14])\n",
            "torch.Size([256, 256, 7, 7])\n",
            "torch.Size([256, 128, 14, 14])\n",
            "torch.Size([256, 128, 28, 28])\n",
            "torch.Size([256, 256, 28, 28])\n"
          ]
        },
        {
          "name": "stderr",
          "output_type": "stream",
          "text": [
            " 29%|██▊       | 67/235 [17:07<42:57, 15.34s/it]"
          ]
        },
        {
          "name": "stdout",
          "output_type": "stream",
          "text": [
            "Epoch 1 Loss: 0.0126\n",
            "torch.Size([256, 1, 28, 28])\n",
            "torch.Size([256, 128, 14, 14])\n",
            "torch.Size([256, 256, 7, 7])\n",
            "torch.Size([256, 128, 14, 14])\n",
            "torch.Size([256, 128, 28, 28])\n",
            "torch.Size([256, 256, 28, 28])\n"
          ]
        },
        {
          "name": "stderr",
          "output_type": "stream",
          "text": [
            " 29%|██▉       | 68/235 [17:19<39:42, 14.26s/it]"
          ]
        },
        {
          "name": "stdout",
          "output_type": "stream",
          "text": [
            "Epoch 1 Loss: 0.0127\n",
            "torch.Size([256, 1, 28, 28])\n",
            "torch.Size([256, 128, 14, 14])\n",
            "torch.Size([256, 256, 7, 7])\n",
            "torch.Size([256, 128, 14, 14])\n",
            "torch.Size([256, 128, 28, 28])\n",
            "torch.Size([256, 256, 28, 28])\n"
          ]
        },
        {
          "name": "stderr",
          "output_type": "stream",
          "text": [
            " 29%|██▉       | 69/235 [17:34<40:07, 14.51s/it]"
          ]
        },
        {
          "name": "stdout",
          "output_type": "stream",
          "text": [
            "Epoch 1 Loss: 0.0128\n",
            "torch.Size([256, 1, 28, 28])\n",
            "torch.Size([256, 128, 14, 14])\n",
            "torch.Size([256, 256, 7, 7])\n",
            "torch.Size([256, 128, 14, 14])\n",
            "torch.Size([256, 128, 28, 28])\n",
            "torch.Size([256, 256, 28, 28])\n"
          ]
        },
        {
          "name": "stderr",
          "output_type": "stream",
          "text": [
            " 30%|██▉       | 70/235 [17:52<42:38, 15.51s/it]"
          ]
        },
        {
          "name": "stdout",
          "output_type": "stream",
          "text": [
            "Epoch 1 Loss: 0.0128\n",
            "torch.Size([256, 1, 28, 28])\n",
            "torch.Size([256, 128, 14, 14])\n",
            "torch.Size([256, 256, 7, 7])\n",
            "torch.Size([256, 128, 14, 14])\n",
            "torch.Size([256, 128, 28, 28])\n",
            "torch.Size([256, 256, 28, 28])\n"
          ]
        },
        {
          "name": "stderr",
          "output_type": "stream",
          "text": [
            " 30%|███       | 71/235 [18:11<45:19, 16.58s/it]"
          ]
        },
        {
          "name": "stdout",
          "output_type": "stream",
          "text": [
            "Epoch 1 Loss: 0.0129\n",
            "torch.Size([256, 1, 28, 28])\n",
            "torch.Size([256, 128, 14, 14])\n",
            "torch.Size([256, 256, 7, 7])\n",
            "torch.Size([256, 128, 14, 14])\n",
            "torch.Size([256, 128, 28, 28])\n",
            "torch.Size([256, 256, 28, 28])\n"
          ]
        },
        {
          "name": "stderr",
          "output_type": "stream",
          "text": [
            " 31%|███       | 72/235 [18:26<43:34, 16.04s/it]"
          ]
        },
        {
          "name": "stdout",
          "output_type": "stream",
          "text": [
            "Epoch 1 Loss: 0.0130\n",
            "torch.Size([256, 1, 28, 28])\n",
            "torch.Size([256, 128, 14, 14])\n",
            "torch.Size([256, 256, 7, 7])\n",
            "torch.Size([256, 128, 14, 14])\n",
            "torch.Size([256, 128, 28, 28])\n",
            "torch.Size([256, 256, 28, 28])\n"
          ]
        },
        {
          "name": "stderr",
          "output_type": "stream",
          "text": [
            " 31%|███       | 73/235 [18:37<39:47, 14.74s/it]"
          ]
        },
        {
          "name": "stdout",
          "output_type": "stream",
          "text": [
            "Epoch 1 Loss: 0.0131\n",
            "torch.Size([256, 1, 28, 28])\n",
            "torch.Size([256, 128, 14, 14])\n",
            "torch.Size([256, 256, 7, 7])\n",
            "torch.Size([256, 128, 14, 14])\n",
            "torch.Size([256, 128, 28, 28])\n",
            "torch.Size([256, 256, 28, 28])\n"
          ]
        },
        {
          "name": "stderr",
          "output_type": "stream",
          "text": [
            " 31%|███▏      | 74/235 [18:48<35:57, 13.40s/it]"
          ]
        },
        {
          "name": "stdout",
          "output_type": "stream",
          "text": [
            "Epoch 1 Loss: 0.0132\n",
            "torch.Size([256, 1, 28, 28])\n",
            "torch.Size([256, 128, 14, 14])\n",
            "torch.Size([256, 256, 7, 7])\n",
            "torch.Size([256, 128, 14, 14])\n",
            "torch.Size([256, 128, 28, 28])\n",
            "torch.Size([256, 256, 28, 28])\n"
          ]
        },
        {
          "name": "stderr",
          "output_type": "stream",
          "text": [
            " 32%|███▏      | 75/235 [18:59<34:21, 12.89s/it]"
          ]
        },
        {
          "name": "stdout",
          "output_type": "stream",
          "text": [
            "Epoch 1 Loss: 0.0132\n",
            "torch.Size([256, 1, 28, 28])\n",
            "torch.Size([256, 128, 14, 14])\n",
            "torch.Size([256, 256, 7, 7])\n",
            "torch.Size([256, 128, 14, 14])\n",
            "torch.Size([256, 128, 28, 28])\n",
            "torch.Size([256, 256, 28, 28])\n"
          ]
        },
        {
          "name": "stderr",
          "output_type": "stream",
          "text": [
            " 32%|███▏      | 76/235 [19:12<34:05, 12.87s/it]"
          ]
        },
        {
          "name": "stdout",
          "output_type": "stream",
          "text": [
            "Epoch 1 Loss: 0.0133\n",
            "torch.Size([256, 1, 28, 28])\n",
            "torch.Size([256, 128, 14, 14])\n",
            "torch.Size([256, 256, 7, 7])\n",
            "torch.Size([256, 128, 14, 14])\n",
            "torch.Size([256, 128, 28, 28])\n",
            "torch.Size([256, 256, 28, 28])\n"
          ]
        },
        {
          "name": "stderr",
          "output_type": "stream",
          "text": [
            " 33%|███▎      | 77/235 [19:26<34:50, 13.23s/it]"
          ]
        },
        {
          "name": "stdout",
          "output_type": "stream",
          "text": [
            "Epoch 1 Loss: 0.0134\n",
            "torch.Size([256, 1, 28, 28])\n",
            "torch.Size([256, 128, 14, 14])\n",
            "torch.Size([256, 256, 7, 7])\n",
            "torch.Size([256, 128, 14, 14])\n",
            "torch.Size([256, 128, 28, 28])\n",
            "torch.Size([256, 256, 28, 28])\n"
          ]
        },
        {
          "name": "stderr",
          "output_type": "stream",
          "text": [
            " 33%|███▎      | 78/235 [19:41<35:36, 13.61s/it]"
          ]
        },
        {
          "name": "stdout",
          "output_type": "stream",
          "text": [
            "Epoch 1 Loss: 0.0135\n",
            "torch.Size([256, 1, 28, 28])\n",
            "torch.Size([256, 128, 14, 14])\n",
            "torch.Size([256, 256, 7, 7])\n",
            "torch.Size([256, 128, 14, 14])\n",
            "torch.Size([256, 128, 28, 28])\n",
            "torch.Size([256, 256, 28, 28])\n"
          ]
        },
        {
          "name": "stderr",
          "output_type": "stream",
          "text": [
            " 34%|███▎      | 79/235 [19:57<37:50, 14.56s/it]"
          ]
        },
        {
          "name": "stdout",
          "output_type": "stream",
          "text": [
            "Epoch 1 Loss: 0.0136\n",
            "torch.Size([256, 1, 28, 28])\n",
            "torch.Size([256, 128, 14, 14])\n",
            "torch.Size([256, 256, 7, 7])\n",
            "torch.Size([256, 128, 14, 14])\n",
            "torch.Size([256, 128, 28, 28])\n",
            "torch.Size([256, 256, 28, 28])\n"
          ]
        },
        {
          "name": "stderr",
          "output_type": "stream",
          "text": [
            " 34%|███▍      | 80/235 [20:15<39:50, 15.42s/it]"
          ]
        },
        {
          "name": "stdout",
          "output_type": "stream",
          "text": [
            "Epoch 1 Loss: 0.0137\n",
            "torch.Size([256, 1, 28, 28])\n",
            "torch.Size([256, 128, 14, 14])\n",
            "torch.Size([256, 256, 7, 7])\n",
            "torch.Size([256, 128, 14, 14])\n",
            "torch.Size([256, 128, 28, 28])\n",
            "torch.Size([256, 256, 28, 28])\n"
          ]
        },
        {
          "name": "stderr",
          "output_type": "stream",
          "text": [
            " 34%|███▍      | 81/235 [20:31<40:21, 15.73s/it]"
          ]
        },
        {
          "name": "stdout",
          "output_type": "stream",
          "text": [
            "Epoch 1 Loss: 0.0137\n",
            "torch.Size([256, 1, 28, 28])\n",
            "torch.Size([256, 128, 14, 14])\n",
            "torch.Size([256, 256, 7, 7])\n",
            "torch.Size([256, 128, 14, 14])\n",
            "torch.Size([256, 128, 28, 28])\n",
            "torch.Size([256, 256, 28, 28])\n"
          ]
        },
        {
          "name": "stderr",
          "output_type": "stream",
          "text": [
            " 35%|███▍      | 82/235 [20:46<39:23, 15.45s/it]"
          ]
        },
        {
          "name": "stdout",
          "output_type": "stream",
          "text": [
            "Epoch 1 Loss: 0.0138\n",
            "torch.Size([256, 1, 28, 28])\n",
            "torch.Size([256, 128, 14, 14])\n",
            "torch.Size([256, 256, 7, 7])\n",
            "torch.Size([256, 128, 14, 14])\n",
            "torch.Size([256, 128, 28, 28])\n",
            "torch.Size([256, 256, 28, 28])\n"
          ]
        },
        {
          "name": "stderr",
          "output_type": "stream",
          "text": [
            " 35%|███▌      | 83/235 [21:00<37:44, 14.90s/it]"
          ]
        },
        {
          "name": "stdout",
          "output_type": "stream",
          "text": [
            "Epoch 1 Loss: 0.0139\n",
            "torch.Size([256, 1, 28, 28])\n",
            "torch.Size([256, 128, 14, 14])\n",
            "torch.Size([256, 256, 7, 7])\n",
            "torch.Size([256, 128, 14, 14])\n",
            "torch.Size([256, 128, 28, 28])\n",
            "torch.Size([256, 256, 28, 28])\n"
          ]
        },
        {
          "name": "stderr",
          "output_type": "stream",
          "text": [
            " 36%|███▌      | 84/235 [21:15<37:32, 14.92s/it]"
          ]
        },
        {
          "name": "stdout",
          "output_type": "stream",
          "text": [
            "Epoch 1 Loss: 0.0140\n",
            "torch.Size([256, 1, 28, 28])\n",
            "torch.Size([256, 128, 14, 14])\n",
            "torch.Size([256, 256, 7, 7])\n",
            "torch.Size([256, 128, 14, 14])\n",
            "torch.Size([256, 128, 28, 28])\n",
            "torch.Size([256, 256, 28, 28])\n"
          ]
        },
        {
          "name": "stderr",
          "output_type": "stream",
          "text": [
            " 36%|███▌      | 85/235 [21:30<37:55, 15.17s/it]"
          ]
        },
        {
          "name": "stdout",
          "output_type": "stream",
          "text": [
            "Epoch 1 Loss: 0.0140\n",
            "torch.Size([256, 1, 28, 28])\n",
            "torch.Size([256, 128, 14, 14])\n",
            "torch.Size([256, 256, 7, 7])\n",
            "torch.Size([256, 128, 14, 14])\n",
            "torch.Size([256, 128, 28, 28])\n",
            "torch.Size([256, 256, 28, 28])\n"
          ]
        },
        {
          "name": "stderr",
          "output_type": "stream",
          "text": [
            " 37%|███▋      | 86/235 [21:49<40:10, 16.18s/it]"
          ]
        },
        {
          "name": "stdout",
          "output_type": "stream",
          "text": [
            "Epoch 1 Loss: 0.0141\n",
            "torch.Size([256, 1, 28, 28])\n",
            "torch.Size([256, 128, 14, 14])\n",
            "torch.Size([256, 256, 7, 7])\n",
            "torch.Size([256, 128, 14, 14])\n",
            "torch.Size([256, 128, 28, 28])\n",
            "torch.Size([256, 256, 28, 28])\n"
          ]
        },
        {
          "name": "stderr",
          "output_type": "stream",
          "text": [
            " 37%|███▋      | 87/235 [22:04<38:55, 15.78s/it]"
          ]
        },
        {
          "name": "stdout",
          "output_type": "stream",
          "text": [
            "Epoch 1 Loss: 0.0142\n",
            "torch.Size([256, 1, 28, 28])\n",
            "torch.Size([256, 128, 14, 14])\n",
            "torch.Size([256, 256, 7, 7])\n",
            "torch.Size([256, 128, 14, 14])\n",
            "torch.Size([256, 128, 28, 28])\n",
            "torch.Size([256, 256, 28, 28])\n"
          ]
        },
        {
          "name": "stderr",
          "output_type": "stream",
          "text": [
            " 37%|███▋      | 88/235 [22:15<34:59, 14.28s/it]"
          ]
        },
        {
          "name": "stdout",
          "output_type": "stream",
          "text": [
            "Epoch 1 Loss: 0.0143\n",
            "torch.Size([256, 1, 28, 28])\n",
            "torch.Size([256, 128, 14, 14])\n",
            "torch.Size([256, 256, 7, 7])\n",
            "torch.Size([256, 128, 14, 14])\n",
            "torch.Size([256, 128, 28, 28])\n",
            "torch.Size([256, 256, 28, 28])\n"
          ]
        },
        {
          "name": "stderr",
          "output_type": "stream",
          "text": [
            " 38%|███▊      | 89/235 [22:25<32:10, 13.22s/it]"
          ]
        },
        {
          "name": "stdout",
          "output_type": "stream",
          "text": [
            "Epoch 1 Loss: 0.0144\n",
            "torch.Size([256, 1, 28, 28])\n",
            "torch.Size([256, 128, 14, 14])\n",
            "torch.Size([256, 256, 7, 7])\n",
            "torch.Size([256, 128, 14, 14])\n",
            "torch.Size([256, 128, 28, 28])\n",
            "torch.Size([256, 256, 28, 28])\n"
          ]
        },
        {
          "name": "stderr",
          "output_type": "stream",
          "text": [
            " 38%|███▊      | 90/235 [22:37<30:35, 12.66s/it]"
          ]
        },
        {
          "name": "stdout",
          "output_type": "stream",
          "text": [
            "Epoch 1 Loss: 0.0144\n",
            "torch.Size([256, 1, 28, 28])\n",
            "torch.Size([256, 128, 14, 14])\n",
            "torch.Size([256, 256, 7, 7])\n",
            "torch.Size([256, 128, 14, 14])\n",
            "torch.Size([256, 128, 28, 28])\n",
            "torch.Size([256, 256, 28, 28])\n"
          ]
        },
        {
          "name": "stderr",
          "output_type": "stream",
          "text": [
            " 39%|███▊      | 91/235 [22:49<29:54, 12.46s/it]"
          ]
        },
        {
          "name": "stdout",
          "output_type": "stream",
          "text": [
            "Epoch 1 Loss: 0.0145\n",
            "torch.Size([256, 1, 28, 28])\n",
            "torch.Size([256, 128, 14, 14])\n",
            "torch.Size([256, 256, 7, 7])\n",
            "torch.Size([256, 128, 14, 14])\n",
            "torch.Size([256, 128, 28, 28])\n",
            "torch.Size([256, 256, 28, 28])\n"
          ]
        }
      ],
      "source": [
        "from tqdm import tqdm \n",
        "# traindata = MNIST(root=\"data\", download=True, transform=ToTensor(), train=True)\n",
        "trainloader = DataLoader(dataset,batch_size=256,shuffle=True,num_workers=12)\n",
        "device = torch.device(\"cuda:0\" if torch.cuda.is_available() else \"cpu\")\n",
        "model = UnconditionalUNet(in_channels=1,num_hiddens=128).to(device)\n",
        "\n",
        "criterion = nn.MSELoss(reduction='mean')\n",
        "optimizer = optim.Adam(model.parameters(), lr=1e-4)\n",
        "\n",
        "\n",
        "model.train()\n",
        "running_loss = 0.0\n",
        "noise_transform = GaussianNoise(sigma=0.5)\n",
        "total_loss = []\n",
        "model.train()\n",
        "\n",
        "for epoch in range(5):\n",
        "    epoch_loss = 0.0\n",
        "    for images, _ in tqdm(trainloader):\n",
        "        images = images.to(device)\n",
        "\n",
        "        # Apply v2 transform manually inside loop\n",
        "        noisy_images = noise_transform(images)\n",
        "\n",
        "        outputs = model(noisy_images)\n",
        "        loss = criterion(outputs, images)\n",
        "\n",
        "        optimizer.zero_grad()\n",
        "        loss.backward()\n",
        "        optimizer.step()\n",
        "\n",
        "        epoch_loss += loss.item()\n",
        "        # running_loss += loss.item()\n",
        "        avg_loss = epoch_loss / len(trainloader)\n",
        "        total_loss.append(avg_loss)\n",
        "        print(f\"Epoch {epoch+1} Loss: {epoch_loss / len(trainloader):.4f}\")\n",
        "# TODO"
      ]
    },
    {
      "cell_type": "markdown",
      "metadata": {
        "id": "RFvFEa0uTlSF"
      },
      "source": [
        "## Out-of-Distribution Testing"
      ]
    },
    {
      "cell_type": "code",
      "execution_count": null,
      "metadata": {
        "colab": {
          "base_uri": "https://localhost:8080/",
          "height": 217
        },
        "id": "BUb-JMHrTlSF",
        "outputId": "356b18cc-5c1d-4e00-93b2-20e7262ccc2b"
      },
      "outputs": [],
      "source": [
        "# TODO\n",
        "model.eval()\n",
        "sigma_values = np.arange(0, 11) / 10 \n",
        "testdata= MNIST(root=\"data\", download=True, transform=ToTensor(), train=False)\n",
        "testloader =  DataLoader(testdata,batch_size=256,shuffle=True,num_workers=12)\n",
        "sigmaloss =[]\n",
        "with torch.no_grad():\n",
        "    for sigma in sigma_values:\n",
        "        noise_transform = GaussianNoise(mean=0.0, std=sigma)\n",
        "        total_loss = 0.0\n",
        "        shown = False\n",
        "        for images, _ in tqdm(testloader, desc=f\"σ={sigma:.1f}\"):\n",
        "            images = images.to(device)\n",
        "            noisy_images = noise_transform(images)\n",
        "            outputs = model(noisy_images)\n",
        "            loss = criterion(outputs, images)\n",
        "            total_loss += loss.item()\n",
        "            if not shown:\n",
        "                i = torch.randint(0, images.size(0), (1,)).item()\n",
        "                sample = torch.stack([images[i], outputs[i]]) \n",
        "                vutils.save_image(sample, f\"output_sigma_{sigma:.1f}.png\", nrow=2, normalize=True)\n",
        "                shown = True\n",
        "        avg_loss = total_loss / len(testloader)\n",
        "        sigmaloss.append(avg_loss)\n",
        "        print(f\"Sigma={sigma:.2f} | Avg Test Loss: {avg_loss:.4f}\")"
      ]
    },
    {
      "cell_type": "markdown",
      "metadata": {
        "id": "9ObcO_jUamVE"
      },
      "source": [
        "# Part 2: Training a Diffusion Model"
      ]
    },
    {
      "cell_type": "markdown",
      "metadata": {
        "id": "zMI3IMkjayxQ"
      },
      "source": [
        "## Implementing a Time-conditioned UNet"
      ]
    },
    {
      "cell_type": "code",
      "execution_count": null,
      "metadata": {
        "id": "fkchbyYkzAvV"
      },
      "outputs": [],
      "source": [
        "class FCBlock(nn.Module):\n",
        "    def __init__(self, in_channels: int, out_channels: int):\n",
        "        super().__init__()\n",
        "\n",
        "    def forward(self, x: torch.Tensor) -> torch.Tensor:\n",
        "        raise NotImplementedError()\n",
        "\n",
        "\n",
        "class TimeConditionalUNet(nn.Module):\n",
        "    def __init__(\n",
        "        self,\n",
        "        in_channels: int,\n",
        "        num_classes: int,\n",
        "        num_hiddens: int,\n",
        "    ):\n",
        "        super().__init__()\n",
        "\n",
        "    def forward(\n",
        "        self,\n",
        "        x: torch.Tensor,\n",
        "        t: torch.Tensor,\n",
        "    ) -> torch.Tensor:\n",
        "        \"\"\"\n",
        "        Args:\n",
        "            x: (N, C, H, W) input tensor.\n",
        "            t: (N,) normalized time tensor.\n",
        "\n",
        "        Returns:\n",
        "            (N, C, H, W) output tensor.\n",
        "        \"\"\"\n",
        "        assert x.shape[-2:] == (28, 28), \"Expect input shape to be (28, 28).\"\n",
        "        raise NotImplementedError()"
      ]
    },
    {
      "cell_type": "markdown",
      "metadata": {
        "id": "0nyxOM-RbZnC"
      },
      "source": [
        "## Implementing DDPM Forward and Inverse Process for Time-conditioned Denoising"
      ]
    },
    {
      "cell_type": "code",
      "execution_count": null,
      "metadata": {
        "id": "yIvMw63T6JkE"
      },
      "outputs": [],
      "source": [
        "def ddpm_schedule(beta1: float, beta2: float, num_ts: int) -> dict:\n",
        "    \"\"\"Constants for DDPM training and sampling.\n",
        "\n",
        "    Arguments:\n",
        "        beta1: float, starting beta value.\n",
        "        beta2: float, ending beta value.\n",
        "        num_ts: int, number of timesteps.\n",
        "\n",
        "    Returns:\n",
        "        dict with keys:\n",
        "            betas: linear schedule of betas from beta1 to beta2.\n",
        "            alphas: 1 - betas.\n",
        "            alpha_bars: cumulative product of alphas.\n",
        "    \"\"\"\n",
        "    assert beta1 < beta2 < 1.0, \"Expect beta1 < beta2 < 1.0.\"\n",
        "    raise NotImplementedError()"
      ]
    },
    {
      "cell_type": "code",
      "execution_count": null,
      "metadata": {
        "id": "hfvtHEFf_7Q3"
      },
      "outputs": [],
      "source": [
        "def ddpm_forward(\n",
        "    unet: TimeConditionalUNet,\n",
        "    ddpm_schedule: dict,\n",
        "    x_0: torch.Tensor,\n",
        "    num_ts: int,\n",
        ") -> torch.Tensor:\n",
        "    \"\"\"Algorithm 1 of the DDPM paper.\n",
        "\n",
        "    Args:\n",
        "        unet: TimeConditionalUNet\n",
        "        ddpm_schedule: dict\n",
        "        x_0: (N, C, H, W) input tensor.\n",
        "        num_ts: int, number of timesteps.\n",
        "    Returns:\n",
        "        (,) diffusion loss.\n",
        "    \"\"\"\n",
        "    unet.train()\n",
        "    # YOUR CODE HERE.\n",
        "    raise NotImplementedError()"
      ]
    },
    {
      "cell_type": "code",
      "execution_count": null,
      "metadata": {
        "id": "BNE8-455IDm3"
      },
      "outputs": [],
      "source": [
        "@torch.inference_mode()\n",
        "def ddpm_sample(\n",
        "    unet: TimeConditionalUNet,\n",
        "    ddpm_schedule: dict,\n",
        "    img_wh: tuple[int, int],\n",
        "    num_ts: int,\n",
        "    seed: int = 0,\n",
        ") -> torch.Tensor:\n",
        "    \"\"\"Algorithm 2 of the DDPM paper with classifier-free guidance.\n",
        "\n",
        "    Args:\n",
        "        unet: TimeConditionalUNet\n",
        "        ddpm_schedule: dict\n",
        "        img_wh: (H, W) output image width and height.\n",
        "        num_ts: int, number of timesteps.\n",
        "        seed: int, random seed.\n",
        "\n",
        "    Returns:\n",
        "        (N, C, H, W) final sample.\n",
        "    \"\"\"\n",
        "    unet.eval()\n",
        "    # YOUR CODE HERE.\n",
        "    raise NotImplementedError()"
      ]
    },
    {
      "cell_type": "code",
      "execution_count": null,
      "metadata": {
        "id": "G_hVifFyw20j"
      },
      "outputs": [],
      "source": [
        "class DDPM(nn.Module):\n",
        "    def __init__(\n",
        "        self,\n",
        "        unet: TimeConditionalUNet,\n",
        "        betas: tuple[float, float] = (1e-4, 0.02),\n",
        "        num_ts: int = 300,\n",
        "        p_uncond: float = 0.1,\n",
        "    ):\n",
        "        super().__init__()\n",
        "        self.unet = unet\n",
        "        self.num_ts = num_ts\n",
        "        self.p_uncond = p_uncond\n",
        "\n",
        "        self.ddpm_schedule = nn.ParameterDict(ddpm_schedule(betas[0], betas[1], num_ts))\n",
        "\n",
        "    def forward(self, x: torch.Tensor) -> torch.Tensor:\n",
        "        \"\"\"\n",
        "        Args:\n",
        "            x: (N, C, H, W) input tensor.\n",
        "\n",
        "        Returns:\n",
        "            (,) diffusion loss.\n",
        "        \"\"\"\n",
        "        return ddpm_forward(\n",
        "            self.unet, self.ddpm_schedule, x, self.num_ts\n",
        "        )\n",
        "\n",
        "    @torch.inference_mode()\n",
        "    def sample(\n",
        "        self,\n",
        "        img_wh: tuple[int, int],\n",
        "        seed: int = 0,\n",
        "    ):\n",
        "        return ddpm_sample(\n",
        "            self.unet, self.ddpm_schedule, img_wh, self.num_ts, seed\n",
        "        )"
      ]
    },
    {
      "cell_type": "markdown",
      "metadata": {
        "id": "vMYZt6IZTlSH"
      },
      "source": [
        "## Training the Time-conditioned UNet\n",
        "\n",
        "- Plot the loss curve\n",
        "- Sample results on the test set"
      ]
    },
    {
      "cell_type": "code",
      "execution_count": null,
      "metadata": {
        "colab": {
          "base_uri": "https://localhost:8080/",
          "height": 1000
        },
        "id": "XIuV2xECTlSH",
        "outputId": "79089133-b9bc-4ec6-e35e-73441027491e"
      },
      "outputs": [],
      "source": [
        "dataset = MNIST(root='data', download=True, transform=ToTensor(), train=True)\n",
        "dataloader = DataLoader(dataset, batch_size=128, shuffle=True)\n",
        "\n",
        "# TODO"
      ]
    },
    {
      "cell_type": "markdown",
      "metadata": {
        "id": "uW2FBjpn8CTZ"
      },
      "source": [
        "### Implementing class-conditioned UNet"
      ]
    },
    {
      "cell_type": "code",
      "execution_count": null,
      "metadata": {
        "id": "vAXZYlOt8Rzy"
      },
      "outputs": [],
      "source": [
        "class ClassConditionalUNet(nn.Module):\n",
        "    def __init__(\n",
        "        self,\n",
        "        in_channels: int,\n",
        "        num_classes: int,\n",
        "        num_hiddens: int,\n",
        "    ):\n",
        "        super().__init__()\n",
        "\n",
        "    def forward(\n",
        "        self,\n",
        "        x: torch.Tensor,\n",
        "        c: torch.Tensor,\n",
        "        t: torch.Tensor,\n",
        "        mask: torch.Tensor | None = None,\n",
        "    ) -> torch.Tensor:\n",
        "        \"\"\"\n",
        "        Args:\n",
        "            x: (N, C, H, W) input tensor.\n",
        "            c: (N,) int64 condition tensor.\n",
        "            t: (N,) normalized time tensor.\n",
        "            mask: (N,) mask tensor. If not None, mask out condition when mask == 0.\n",
        "\n",
        "        Returns:\n",
        "            (N, C, H, W) output tensor.\n",
        "        \"\"\"\n",
        "        assert x.shape[-2:] == (28, 28), \"Expect input shape to be (28, 28).\"\n",
        "        raise NotImplementedError()"
      ]
    },
    {
      "cell_type": "code",
      "execution_count": null,
      "metadata": {
        "id": "NobmVh4U8BRP"
      },
      "outputs": [],
      "source": [
        "def ddpm_forward(\n",
        "    unet: ClassConditionalUNet,\n",
        "    ddpm_schedule: dict,\n",
        "    x_0: torch.Tensor,\n",
        "    c: torch.Tensor,\n",
        "    p_uncond: float,\n",
        "    num_ts: int,\n",
        ") -> torch.Tensor:\n",
        "    \"\"\"Algorithm 1 of the DDPM paper.\n",
        "\n",
        "    Args:\n",
        "        unet: ClassConditionalUNet\n",
        "        ddpm_schedule: dict\n",
        "        x_0: (N, C, H, W) input tensor.\n",
        "        c: (N,) int64 condition tensor.\n",
        "        p_uncond: float, probability of unconditioning the condition.\n",
        "        num_ts: int, number of timesteps.\n",
        "\n",
        "    Returns:\n",
        "        (,) diffusion loss.\n",
        "    \"\"\"\n",
        "    unet.train()\n",
        "    # YOUR CODE HERE.\n",
        "    raise NotImplementedError()"
      ]
    },
    {
      "cell_type": "code",
      "execution_count": null,
      "metadata": {
        "id": "rMW5YeCi8cqO"
      },
      "outputs": [],
      "source": [
        "@torch.inference_mode()\n",
        "def ddpm_sample(\n",
        "    unet: ClassConditionalUNet,\n",
        "    ddpm_schedule: dict,\n",
        "    c: torch.Tensor,\n",
        "    img_wh: tuple[int, int],\n",
        "    num_ts: int,\n",
        "    guidance_scale: float = 5.0,\n",
        "    seed: int = 0,\n",
        ") -> torch.Tensor:\n",
        "    \"\"\"Algorithm 2 of the DDPM paper with classifier-free guidance.\n",
        "\n",
        "    Args:\n",
        "        unet: ClassConditionalUNet\n",
        "        ddpm_schedule: dict\n",
        "        c: (N,) int64 condition tensor. Only for class-conditional\n",
        "        img_wh: (H, W) output image width and height.\n",
        "        num_ts: int, number of timesteps.\n",
        "        guidance_scale: float, CFG scale.\n",
        "        seed: int, random seed.\n",
        "\n",
        "    Returns:\n",
        "        (N, C, H, W) final sample.\n",
        "        (N, T_animation, C, H, W) caches.\n",
        "    \"\"\"\n",
        "    unet.eval()\n",
        "    # YOUR CODE HERE.\n",
        "    raise NotImplementedError()"
      ]
    },
    {
      "cell_type": "code",
      "execution_count": null,
      "metadata": {
        "id": "gdQFWwIt8mXh"
      },
      "outputs": [],
      "source": [
        "class DDPM(nn.Module):\n",
        "    def __init__(\n",
        "        self,\n",
        "        unet: ClassConditionalUNet,\n",
        "        betas: tuple[float, float] = (1e-4, 0.02),\n",
        "        num_ts: int = 300,\n",
        "        p_uncond: float = 0.1,\n",
        "    ):\n",
        "        super().__init__()\n",
        "        self.unet = unet\n",
        "        self.betas = betas\n",
        "        self.num_ts = num_ts\n",
        "        self.p_uncond = p_uncond\n",
        "        self.ddpm_schedule = nn.ParameterDict(ddpm_schedule(betas[0], betas[1], num_ts))\n",
        "\n",
        "    def forward(self, x: torch.Tensor, c: torch.Tensor) -> torch.Tensor:\n",
        "        \"\"\"\n",
        "        Args:\n",
        "            x: (N, C, H, W) input tensor.\n",
        "            c: (N,) int64 condition tensor.\n",
        "\n",
        "        Returns:\n",
        "            (,) diffusion loss.\n",
        "        \"\"\"\n",
        "        return ddpm_forward(\n",
        "            self.unet, self.ddpm_schedule, x, c, self.p_uncond, self.num_ts\n",
        "        )\n",
        "\n",
        "    @torch.inference_mode()\n",
        "    def sample(\n",
        "        self,\n",
        "        c: torch.Tensor,\n",
        "        img_wh: tuple[int, int],\n",
        "        guidance_scale: float = 5.0,\n",
        "        seed: int = 0,\n",
        "    ):\n",
        "        return ddpm_sample(\n",
        "            self.unet, self.ddpm_schedule, c, img_wh, self.num_ts, guidance_scale, seed\n",
        "        )"
      ]
    },
    {
      "cell_type": "markdown",
      "metadata": {
        "id": "PV-Sn617TlSJ"
      },
      "source": [
        "## Training the Class-conditioned UNet\n",
        "\n",
        "- Plot the loss curve\n",
        "- Sample results on the test set"
      ]
    },
    {
      "cell_type": "code",
      "execution_count": null,
      "metadata": {
        "colab": {
          "base_uri": "https://localhost:8080/",
          "height": 1000
        },
        "id": "mh4Wt3ejTlSJ",
        "outputId": "e2f7b9fc-8150-4ffa-ebd8-56f364b6226d"
      },
      "outputs": [],
      "source": [
        "dataset = MNIST(root='data', download=True, transform=ToTensor(), train=True)\n",
        "dataloader = DataLoader(dataset, batch_size=128, shuffle=True)\n",
        "\n",
        "# TODO"
      ]
    }
  ],
  "metadata": {
    "accelerator": "GPU",
    "colab": {
      "gpuType": "T4",
      "provenance": []
    },
    "kernelspec": {
      "display_name": "CS4XX",
      "language": "python",
      "name": "python3"
    },
    "language_info": {
      "codemirror_mode": {
        "name": "ipython",
        "version": 3
      },
      "file_extension": ".py",
      "mimetype": "text/x-python",
      "name": "python",
      "nbconvert_exporter": "python",
      "pygments_lexer": "ipython3",
      "version": "3.12.9"
    }
  },
  "nbformat": 4,
  "nbformat_minor": 0
}
